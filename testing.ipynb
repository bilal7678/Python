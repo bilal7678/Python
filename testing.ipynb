{
  "nbformat": 4,
  "nbformat_minor": 0,
  "metadata": {
    "colab": {
      "provenance": [],
      "authorship_tag": "ABX9TyN56XfkS2OrbUTzWediLMnr",
      "include_colab_link": true
    },
    "kernelspec": {
      "name": "python3",
      "display_name": "Python 3"
    },
    "language_info": {
      "name": "python"
    }
  },
  "cells": [
    {
      "cell_type": "markdown",
      "metadata": {
        "id": "view-in-github",
        "colab_type": "text"
      },
      "source": [
        "<a href=\"https://colab.research.google.com/github/bilal7678/Python/blob/main/testing.ipynb\" target=\"_parent\"><img src=\"https://colab.research.google.com/assets/colab-badge.svg\" alt=\"Open In Colab\"/></a>"
      ]
    },
    {
      "cell_type": "code",
      "execution_count": 2,
      "metadata": {
        "colab": {
          "base_uri": "https://localhost:8080/"
        },
        "id": "jFGsHjM3Ypbf",
        "outputId": "28c56996-6c37-48c6-a4a7-7b247cbc0e7c"
      },
      "outputs": [
        {
          "output_type": "stream",
          "name": "stdout",
          "text": [
            "Hello Bilal\n"
          ]
        }
      ],
      "source": [
        "print(\"Hello Bilal\")"
      ]
    },
    {
      "cell_type": "code",
      "source": [
        "print('Hello Bilal')"
      ],
      "metadata": {
        "colab": {
          "base_uri": "https://localhost:8080/"
        },
        "id": "TKR8OhWCZNU4",
        "outputId": "7a66a1b8-037f-43ed-eb39-8df7b2aeec98"
      },
      "execution_count": 3,
      "outputs": [
        {
          "output_type": "stream",
          "name": "stdout",
          "text": [
            "Hello Bilal\n"
          ]
        }
      ]
    },
    {
      "cell_type": "code",
      "source": [
        "print(\" 'Hello Bilal' \")"
      ],
      "metadata": {
        "colab": {
          "base_uri": "https://localhost:8080/"
        },
        "id": "EPVoP43gZfKO",
        "outputId": "5aef0488-debd-401b-9d8f-3bba5eb14860"
      },
      "execution_count": 4,
      "outputs": [
        {
          "output_type": "stream",
          "name": "stdout",
          "text": [
            " 'Hello Bilal' \n"
          ]
        }
      ]
    },
    {
      "cell_type": "code",
      "source": [
        "print(\"\"\"Hi Bilal how are you\n",
        "\n",
        "\n",
        "\n",
        "\n",
        "\n",
        "i am fine\"\"\")"
      ],
      "metadata": {
        "colab": {
          "base_uri": "https://localhost:8080/"
        },
        "id": "MckzT4tXaJC-",
        "outputId": "316986ae-5842-48a7-810a-0cad1bbe7f8d"
      },
      "execution_count": 9,
      "outputs": [
        {
          "output_type": "stream",
          "name": "stdout",
          "text": [
            "Hi Bilal how are you\n",
            "\n",
            "\n",
            "\n",
            "\n",
            "\n",
            "i am fine\n"
          ]
        }
      ]
    },
    {
      "cell_type": "code",
      "source": [],
      "metadata": {
        "id": "D6MKnzCcbXqZ"
      },
      "execution_count": null,
      "outputs": []
    }
  ]
}